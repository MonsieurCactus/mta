{
 "metadata": {
  "name": "",
  "signature": "sha256:fc8275c1b2163dfd872947806a74bbe3f7d2a765f050bd114e39a0de5466b523"
 },
 "nbformat": 3,
 "nbformat_minor": 0,
 "worksheets": []
}