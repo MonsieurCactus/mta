{
 "metadata": {
  "name": "",
  "signature": "sha256:7bcac053a4fabf39e7cd5bf505191b72e1b9f598c64443e66bc663494ebe915b"
 },
 "nbformat": 3,
 "nbformat_minor": 0,
 "worksheets": [
  {
   "cells": [
    {
     "cell_type": "code",
     "collapsed": false,
     "input": [
      "import numpy as np\n",
      "import matplotlib.pyplot as plt\n",
      "%matplotlib inline\n",
      "import csv"
     ],
     "language": "python",
     "metadata": {},
     "outputs": [],
     "prompt_number": 1
    },
    {
     "cell_type": "markdown",
     "metadata": {},
     "source": [
      "# Metropolitan Transit Authority Turnstile Data\n",
      "\n",
      "http://web.mta.info/developers/turnstile.html"
     ]
    },
    {
     "cell_type": "code",
     "collapsed": false,
     "input": [
      "data = []\n",
      "with open('turnstile_140222.txt', 'rb') as csvfile:\n",
      "    spamreader = csv.reader(csvfile, delimiter=',', quotechar='\"')\n",
      "    count = 0\n",
      "    for row in spamreader:\n",
      "        count += 1\n",
      "        data += [row]"
     ],
     "language": "python",
     "metadata": {},
     "outputs": [],
     "prompt_number": 2
    },
    {
     "cell_type": "code",
     "collapsed": false,
     "input": [
      "print data[0]"
     ],
     "language": "python",
     "metadata": {},
     "outputs": [
      {
       "output_type": "stream",
       "stream": "stdout",
       "text": [
        "['A002', 'R051', '02-00-00', '02-15-14', '03:00:00', 'REGULAR', '004488521', '001530003', '02-15-14', '07:00:00', 'REGULAR', '004488529', '001530012', '02-15-14', '11:00:00', 'REGULAR', '004488587', '001530105', '02-15-14', '15:00:00', 'REGULAR', '004488777', '001530171', '02-15-14', '19:00:00', 'REGULAR', '004489071', '001530242', '02-15-14', '23:00:00', 'REGULAR', '004489273', '001530260', '02-16-14', '03:00:00', 'REGULAR', '004489329', '001530269', '02-16-14', '07:00:00', 'REGULAR', '004489340', '001530277                                                                                                                  ']\n"
       ]
      }
     ],
     "prompt_number": 6
    },
    {
     "cell_type": "code",
     "collapsed": false,
     "input": [
      "len(data)"
     ],
     "language": "python",
     "metadata": {},
     "outputs": [
      {
       "metadata": {},
       "output_type": "pyout",
       "prompt_number": 7,
       "text": [
        "28973"
       ]
      }
     ],
     "prompt_number": 7
    },
    {
     "cell_type": "code",
     "collapsed": false,
     "input": [],
     "language": "python",
     "metadata": {},
     "outputs": []
    }
   ],
   "metadata": {}
  }
 ]
}